{
 "cells": [
  {
   "cell_type": "code",
   "execution_count": null,
   "metadata": {},
   "outputs": [],
   "source": [
    "from ipywidgets import interact\n",
    "from ipywidgets.widgets import IntSlider, Dropdown\n",
    "from Web_cohortizer_D_4_www_ready import *\n",
    "\n",
    "def plot_data(rho_0, flt):\n",
    "    rho = '0.0' + str(rho_0)\n",
    "    plot_network(series[rho][str(flt)]) \n",
    "    #plot_network(series[str(0.02)][str(2)]) \n",
    "    \n",
    "p = interact(plot_data, rho_0=IntSlider(0, 1, 10), flt=IntSlider(0,0,2))"
   ]
  }
 ],
 "metadata": {
  "kernelspec": {
   "display_name": "Python 2",
   "language": "python",
   "name": "python2"
  },
  "language_info": {
   "codemirror_mode": {
    "name": "ipython",
    "version": 2
   },
   "file_extension": ".py",
   "mimetype": "text/x-python",
   "name": "python",
   "nbconvert_exporter": "python",
   "pygments_lexer": "ipython2",
   "version": "2.7.15"
  }
 },
 "nbformat": 4,
 "nbformat_minor": 2
}
