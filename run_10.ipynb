{
 "cells": [
  {
   "cell_type": "code",
   "execution_count": 1,
   "metadata": {},
   "outputs": [],
   "source": [
    "from ipywidgets import interact\n",
    "from ipywidgets.widgets import IntSlider, Dropdown\n",
    "from Web_cohortizer_E_9_www_ready import *"
   ]
  },
  {
   "cell_type": "code",
   "execution_count": null,
   "metadata": {},
   "outputs": [],
   "source": [
    "# Erdos Renyi network \n",
    "simulation_data['network_n'] = 1000\n",
    "simulation_data['network_p'] = 0.006   \n",
    "\n",
    "# disease \n",
    "simulation_data['D'] = 50   #disease related genes  \n",
    "simulation_data['p'] = 0.5  #clustering probability\n",
    "\n",
    "# cohort\n",
    "simulation_data['P'] = 15 #patiens number\n",
    "simulation_data['A'] = 0.5  #disease expression density scaling\n",
    "\n",
    "##############################################\n",
    "series = simulate_series(simulation_data) \n",
    "##############################################\n",
    "\n",
    "def plot_data(rho_0, f):\n",
    "    #rho = '0.0' + str(rho_0)\n",
    "    plot_network(series[str(rho_0)][str(f)]) \n",
    "    \n",
    "p = interact(plot_data, rho_0=FloatSlider(0.01, 0.01, 0.5, 0.01), f=IntSlider(0,0,10))"
   ]
  }
 ],
 "metadata": {
  "kernelspec": {
   "display_name": "Python 2",
   "language": "python",
   "name": "python2"
  },
  "language_info": {
   "codemirror_mode": {
    "name": "ipython",
    "version": 2
   },
   "file_extension": ".py",
   "mimetype": "text/x-python",
   "name": "python",
   "nbconvert_exporter": "python",
   "pygments_lexer": "ipython2",
   "version": "2.7.15"
  }
 },
 "nbformat": 4,
 "nbformat_minor": 2
}
